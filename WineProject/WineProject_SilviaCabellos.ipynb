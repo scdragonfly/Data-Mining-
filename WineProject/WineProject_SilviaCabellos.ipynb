{
 "cells": [
  {
   "cell_type": "markdown",
   "metadata": {},
   "source": [
    "#### Team \"We Like Wine\"\n",
    "\n",
    "\n",
    "\n",
    "1.Data cleaning and preprocessing\n",
    "\n",
    "    a. Removing dups, imputing missing records, reducing data. \n",
    "    \n",
    "2.Data grouping and preparing for Binary Classification Model\n",
    "\n",
    "    a. Used NTLK ( preprocessed - tokenize - lemmatize )\n",
    "    b. Used Labelencoder + HotEncoder to build numerical representations of words. \n",
    "    c. Train and Run classifier. "
   ]
  },
  {
   "cell_type": "code",
   "execution_count": 103,
   "metadata": {},
   "outputs": [],
   "source": [
    "# Creating a dataframe object\n",
    "import pandas as pd\n",
    " \n",
    "\n",
    "#wine_data= pd.read_csv(r'C:\\Users\\User\\OneDrive\\DataMining\\winemag-data-130k-v2\\winemag-data-130k-v2.csv', \n",
    "wine_data= pd.read_csv(r'C:\\Users\\User\\OneDrive\\DataMining\\winemag-data-130k-v2_OpenRefine.csv', \n",
    "                        names=['country', \n",
    "                               'description', \n",
    "                               'designation', \n",
    "                               'points', \n",
    "                               'price', \n",
    "                               'province', \n",
    "                               'region_1', \n",
    "                               'region_2', \n",
    "                               'taster_name', \n",
    "                               'taster_twitter_handle', \n",
    "                               'title', \n",
    "                               'variety',\n",
    "                               'winery'], skiprows=1#,low_memory=False\n",
    "                        )"
   ]
  },
  {
   "cell_type": "code",
   "execution_count": 104,
   "metadata": {},
   "outputs": [
    {
     "name": "stdout",
     "output_type": "stream",
     "text": [
      "<class 'pandas.core.frame.DataFrame'>\n",
      "Int64Index: 119988 entries, 0 to 129970\n",
      "Data columns (total 13 columns):\n",
      "country                  119929 non-null object\n",
      "description              119988 non-null object\n",
      "designation              85443 non-null object\n",
      "points                   119988 non-null int64\n",
      "price                    111593 non-null float64\n",
      "province                 119929 non-null object\n",
      "region_1                 100428 non-null object\n",
      "region_2                 46769 non-null object\n",
      "taster_name              95071 non-null object\n",
      "taster_twitter_handle    90542 non-null object\n",
      "title                    119988 non-null object\n",
      "variety                  119987 non-null object\n",
      "winery                   119988 non-null object\n",
      "dtypes: float64(1), int64(1), object(11)\n",
      "memory usage: 12.8+ MB\n",
      "The number of nulls per feature is \n",
      "\n",
      "country                     59\n",
      "description                  0\n",
      "designation              34545\n",
      "points                       0\n",
      "price                     8395\n",
      "province                    59\n",
      "region_1                 19560\n",
      "region_2                 73219\n",
      "taster_name              24917\n",
      "taster_twitter_handle    29446\n",
      "title                        0\n",
      "variety                      1\n",
      "winery                       0\n",
      "dtype: int64\n"
     ]
    }
   ],
   "source": [
    "# Clean up \n",
    "\n",
    "#remove dups \n",
    "wine_data_nodups=wine_data.drop_duplicates()\n",
    "\n",
    "#info\n",
    "wine_data_nodups.info()\n",
    "\n",
    "#remove nulls\n",
    "nulls=wine_data_nodups.isnull().sum()\n",
    "print(\"The number of nulls per feature is\", '\\n')\n",
    "print(nulls)\n",
    "\n"
   ]
  },
  {
   "cell_type": "code",
   "execution_count": 105,
   "metadata": {},
   "outputs": [
    {
     "data": {
      "text/html": [
       "<div>\n",
       "<style scoped>\n",
       "    .dataframe tbody tr th:only-of-type {\n",
       "        vertical-align: middle;\n",
       "    }\n",
       "\n",
       "    .dataframe tbody tr th {\n",
       "        vertical-align: top;\n",
       "    }\n",
       "\n",
       "    .dataframe thead th {\n",
       "        text-align: right;\n",
       "    }\n",
       "</style>\n",
       "<table border=\"1\" class=\"dataframe\">\n",
       "  <thead>\n",
       "    <tr style=\"text-align: right;\">\n",
       "      <th></th>\n",
       "      <th>description</th>\n",
       "      <th>designation</th>\n",
       "      <th>points</th>\n",
       "      <th>price</th>\n",
       "      <th>province</th>\n",
       "      <th>region_1</th>\n",
       "      <th>region_2</th>\n",
       "      <th>taster_name</th>\n",
       "      <th>taster_twitter_handle</th>\n",
       "      <th>title</th>\n",
       "      <th>variety</th>\n",
       "      <th>winery</th>\n",
       "    </tr>\n",
       "    <tr>\n",
       "      <th>country</th>\n",
       "      <th></th>\n",
       "      <th></th>\n",
       "      <th></th>\n",
       "      <th></th>\n",
       "      <th></th>\n",
       "      <th></th>\n",
       "      <th></th>\n",
       "      <th></th>\n",
       "      <th></th>\n",
       "      <th></th>\n",
       "      <th></th>\n",
       "      <th></th>\n",
       "    </tr>\n",
       "  </thead>\n",
       "  <tbody>\n",
       "    <tr>\n",
       "      <td>Argentina</td>\n",
       "      <td>3544</td>\n",
       "      <td>2693</td>\n",
       "      <td>3544</td>\n",
       "      <td>3501</td>\n",
       "      <td>3544</td>\n",
       "      <td>3495</td>\n",
       "      <td>0</td>\n",
       "      <td>3542</td>\n",
       "      <td>3542</td>\n",
       "      <td>3544</td>\n",
       "      <td>3544</td>\n",
       "      <td>3544</td>\n",
       "    </tr>\n",
       "    <tr>\n",
       "      <td>Australia</td>\n",
       "      <td>2197</td>\n",
       "      <td>1539</td>\n",
       "      <td>2197</td>\n",
       "      <td>2169</td>\n",
       "      <td>2197</td>\n",
       "      <td>2196</td>\n",
       "      <td>0</td>\n",
       "      <td>1910</td>\n",
       "      <td>1910</td>\n",
       "      <td>2197</td>\n",
       "      <td>2197</td>\n",
       "      <td>2197</td>\n",
       "    </tr>\n",
       "    <tr>\n",
       "      <td>Austria</td>\n",
       "      <td>3034</td>\n",
       "      <td>2582</td>\n",
       "      <td>3034</td>\n",
       "      <td>2536</td>\n",
       "      <td>3034</td>\n",
       "      <td>0</td>\n",
       "      <td>0</td>\n",
       "      <td>3026</td>\n",
       "      <td>3026</td>\n",
       "      <td>3034</td>\n",
       "      <td>3034</td>\n",
       "      <td>3034</td>\n",
       "    </tr>\n",
       "    <tr>\n",
       "      <td>Bulgaria</td>\n",
       "      <td>132</td>\n",
       "      <td>88</td>\n",
       "      <td>132</td>\n",
       "      <td>132</td>\n",
       "      <td>132</td>\n",
       "      <td>0</td>\n",
       "      <td>0</td>\n",
       "      <td>132</td>\n",
       "      <td>114</td>\n",
       "      <td>132</td>\n",
       "      <td>132</td>\n",
       "      <td>132</td>\n",
       "    </tr>\n",
       "    <tr>\n",
       "      <td>Canada</td>\n",
       "      <td>226</td>\n",
       "      <td>158</td>\n",
       "      <td>226</td>\n",
       "      <td>224</td>\n",
       "      <td>226</td>\n",
       "      <td>226</td>\n",
       "      <td>0</td>\n",
       "      <td>225</td>\n",
       "      <td>211</td>\n",
       "      <td>226</td>\n",
       "      <td>226</td>\n",
       "      <td>226</td>\n",
       "    </tr>\n",
       "  </tbody>\n",
       "</table>\n",
       "</div>"
      ],
      "text/plain": [
       "           description  designation  points  price  province  region_1  \\\n",
       "country                                                                  \n",
       "Argentina         3544         2693    3544   3501      3544      3495   \n",
       "Australia         2197         1539    2197   2169      2197      2196   \n",
       "Austria           3034         2582    3034   2536      3034         0   \n",
       "Bulgaria           132           88     132    132       132         0   \n",
       "Canada             226          158     226    224       226       226   \n",
       "\n",
       "           region_2  taster_name  taster_twitter_handle  title  variety  \\\n",
       "country                                                                   \n",
       "Argentina         0         3542                   3542   3544     3544   \n",
       "Australia         0         1910                   1910   2197     2197   \n",
       "Austria           0         3026                   3026   3034     3034   \n",
       "Bulgaria          0          132                    114    132      132   \n",
       "Canada            0          225                    211    226      226   \n",
       "\n",
       "           winery  \n",
       "country            \n",
       "Argentina    3544  \n",
       "Australia    2197  \n",
       "Austria      3034  \n",
       "Bulgaria      132  \n",
       "Canada        226  "
      ]
     },
     "execution_count": 105,
     "metadata": {},
     "output_type": "execute_result"
    }
   ],
   "source": [
    "\n",
    "#Drop values that are have few nulls\n",
    "wine_data_nodups=wine_data_nodups.dropna(subset=['country','province','variety'])\n",
    "\n",
    "#Drop counties with less than 100 reviews \n",
    "d=wine_data_nodups.groupby('country').count()\n",
    "d = d.drop(d[(d['description']<100)].index,axis=0)\n",
    "d.head()\n"
   ]
  },
  {
   "cell_type": "code",
   "execution_count": 106,
   "metadata": {},
   "outputs": [
    {
     "name": "stdout",
     "output_type": "stream",
     "text": [
      "country                     59\n",
      "description                  0\n",
      "designation              34545\n",
      "points                       0\n",
      "price                     8395\n",
      "province                    59\n",
      "region_1                 19560\n",
      "region_2                 73219\n",
      "taster_name              24917\n",
      "taster_twitter_handle    29446\n",
      "title                        0\n",
      "variety                      1\n",
      "winery                       0\n",
      "dtype: int64\n"
     ]
    },
    {
     "data": {
      "text/plain": [
       "country                      42\n",
       "description              119894\n",
       "designation               37953\n",
       "points                       21\n",
       "price                       390\n",
       "province                    424\n",
       "region_1                   1229\n",
       "region_2                     17\n",
       "taster_name                  19\n",
       "taster_twitter_handle        15\n",
       "title                    118779\n",
       "variety                     575\n",
       "winery                    16744\n",
       "price_filled                411\n",
       "dtype: int64"
      ]
     },
     "execution_count": 106,
     "metadata": {},
     "output_type": "execute_result"
    }
   ],
   "source": [
    "\n",
    "#remove egypt \n",
    "indexEgypt = wine_data_nodups[(wine_data_nodups['country']=='Egypt')].index\n",
    "wine_data_nodups.drop(indexEgypt , inplace=True)\n",
    "len(wine_data_nodups)\n",
    "\n",
    "#impute the mean of the price to fill the nulls \n",
    "import numpy as np\n",
    "wine_data_nodups['price_filled']=wine_data_nodups.groupby('country')['price'].transform(lambda grp: grp.fillna(np.mean(grp)))\n",
    "\n",
    "print(nulls)\n",
    "\n",
    "wine_data_nodups.nunique()"
   ]
  },
  {
   "cell_type": "code",
   "execution_count": 107,
   "metadata": {},
   "outputs": [
    {
     "data": {
      "text/plain": [
       "119927"
      ]
     },
     "execution_count": 107,
     "metadata": {},
     "output_type": "execute_result"
    }
   ],
   "source": [
    "len(wine_data_nodups)"
   ]
  },
  {
   "cell_type": "markdown",
   "metadata": {},
   "source": [
    "\n",
    "### Visualization \n"
   ]
  },
  {
   "cell_type": "code",
   "execution_count": 108,
   "metadata": {},
   "outputs": [
    {
     "data": {
      "image/png": "[encoded data removed]",
      "text/plain": [
       "<Figure size 864x720 with 1 Axes>"
      ]
     },
     "metadata": {
      "needs_background": "light"
     },
     "output_type": "display_data"
    }
   ],
   "source": [
    "# tree MAP Tree Map example to visualize reviews by Country ?\n",
    "import matplotlib.pyplot as plt\n",
    "import matplotlib\n",
    "import squarify  \n",
    "\n",
    "d=wine_data_nodups.groupby('country').count()\n",
    "d = d.drop(d[(d['description']<100)].index,axis=0)\n",
    " \n",
    "norm = matplotlib.colors.Normalize(vmin=min(d['description']), vmax=max(d['description']))\n",
    "colors = [matplotlib.cm.Greens(norm(value)) for value in d['description']] \n",
    "\n",
    "plt.figure(figsize=(12, 10))\n",
    "squarify.plot(sizes=d['description'], label=d.index, alpha=.8 ,color = colors )\n",
    "plt.axis('off')\n",
    "plt.title(\"Tree Map for countries with more than 100 reviews \", fontsize=12)\n",
    "plt.show()\n"
   ]
  },
  {
   "cell_type": "code",
   "execution_count": 109,
   "metadata": {},
   "outputs": [
    {
     "name": "stdout",
     "output_type": "stream",
     "text": [
      "Unique Scores are  {80, 81, 82, 83, 84, 85, 86, 87, 88, 89, 90, 91, 92, 93, 94, 95, 96, 97, 98, 99, 100}\n"
     ]
    },
    {
     "data": {
      "image/png": "[encoded data removed]",
      "text/plain": [
       "<Figure size 432x288 with 1 Axes>"
      ]
     },
     "metadata": {
      "needs_background": "light"
     },
     "output_type": "display_data"
    }
   ],
   "source": [
    "print(\"Unique Scores are \",set(wine_data_nodups['points']))\n",
    "\n",
    "import seaborn as sns\n",
    "sns.countplot(wine_data_nodups['points'])\n",
    "plt.title('Counts of reviews by scores')\n",
    "plt.show()"
   ]
  },
  {
   "cell_type": "code",
   "execution_count": 110,
   "metadata": {},
   "outputs": [],
   "source": [
    "#Create buckets of points for easy classification Equal-width: equal bucket range ( as partition rule) \n",
    "import numpy as np\n",
    "bins = np.array([80,90,100])\n",
    "wine_data_nodups[\"bucket_points\"] = pd.cut(wine_data_nodups['points'], bins, include_lowest=True)\n"
   ]
  },
  {
   "cell_type": "code",
   "execution_count": 111,
   "metadata": {},
   "outputs": [],
   "source": [
    "\n",
    "bins = np.array([0,30,50,230])\n",
    "wine_data_nodups[\"price_buckets\"] = pd.cut(wine_data_nodups['price_filled'], bins, include_lowest=False)"
   ]
  },
  {
   "cell_type": "code",
   "execution_count": 112,
   "metadata": {},
   "outputs": [
    {
     "data": {
      "image/png": "[encoded data removed]",
      "text/plain": [
       "<Figure size 432x288 with 1 Axes>"
      ]
     },
     "metadata": {
      "needs_background": "light"
     },
     "output_type": "display_data"
    }
   ],
   "source": [
    "import matplotlib.pyplot as plt\n",
    "import seaborn as sns\n",
    "sns.countplot(wine_data_nodups['bucket_points'])\n",
    "plt.title('Counts of reviews by buckets')\n",
    "plt.show()"
   ]
  },
  {
   "cell_type": "markdown",
   "metadata": {},
   "source": [
    "### Outlier Analysis "
   ]
  },
  {
   "cell_type": "code",
   "execution_count": 113,
   "metadata": {},
   "outputs": [
    {
     "data": {
      "image/png": "[encoded data removed]",
      "text/plain": [
       "<Figure size 576x432 with 1 Axes>"
      ]
     },
     "metadata": {
      "needs_background": "light"
     },
     "output_type": "display_data"
    }
   ],
   "source": [
    "plt.figure(figsize=(8, 6))\n",
    "\n",
    "import numpy as np\n",
    "def ecdf(data):\n",
    "    \"\"\" Compute ECDF \"\"\"\n",
    "    x = np.sort(data)\n",
    "    n = x.size\n",
    "    y = np.arange(1, n+1) / n\n",
    "    return(x,y)\n",
    "\n",
    "x,y=ecdf(wine_data_nodups['price_filled'])\n",
    "plt.scatter(x=x, y=y)\n",
    "plt.xlabel('price', fontsize=16)\n",
    "plt.ylabel('% Total', fontsize=16)\n",
    "plt.title('Distribution of Prices')\n",
    "plt.show()"
   ]
  },
  {
   "cell_type": "code",
   "execution_count": 114,
   "metadata": {},
   "outputs": [
    {
     "name": "stdout",
     "output_type": "stream",
     "text": [
      "Q1 quantile of price :  18.0\n",
      "Q2 quantile of price :  27.0\n",
      "Q3 quantile of price :  41.99410536657252\n",
      "0.995th quantile of arr :  225.0\n",
      "IQR of price :  23.99410536657252\n",
      "Outliers - Beyond 1.5xIQR :  35.99115804985878\n",
      "wines of more than $230 =  558\n",
      "total wines =  119927\n",
      "total % of wines within $230  99.53471695281296\n"
     ]
    },
    {
     "data": {
      "image/png": "[encoded data removed]",
      "text/plain": [
       "<Figure size 720x432 with 1 Axes>"
      ]
     },
     "metadata": {
      "needs_background": "light"
     },
     "output_type": "display_data"
    }
   ],
   "source": [
    "# numpy.quantile() method  \n",
    "import numpy as np \n",
    "\n",
    "def IQR(dist):\n",
    "    return np.quantile(dist, .75) - np.quantile(dist, .25)\n",
    "\n",
    " \n",
    "print(\"Q1 quantile of price : \", np.quantile(wine_data_nodups['price_filled'], .25)) \n",
    "print(\"Q2 quantile of price : \", np.quantile(wine_data_nodups['price_filled'], .50))\n",
    "print(\"Q3 quantile of price : \", np.quantile(wine_data_nodups['price_filled'], .75)) \n",
    "print(\"0.995th quantile of arr : \", np.quantile(wine_data_nodups['price_filled'], 0.995))  \n",
    "print(\"IQR of price : \", IQR(wine_data_nodups['price_filled']))\n",
    "print(\"Outliers - Beyond 1.5xIQR : \", 1.5*IQR(wine_data_nodups['price_filled']))\n",
    "\n",
    "\n",
    "print('wines of more than $230 = ',len(wine_data_nodups[wine_data_nodups['price_filled']>=230]))\n",
    "print('total wines = ',len(wine_data_nodups))\n",
    "print('total % of wines within $230 ',\n",
    "      (1-(len(wine_data_nodups[wine_data_nodups['price_filled']>=230])/len(wine_data_nodups)))*100)\n",
    "\n",
    "\n",
    "d=wine_data_nodups\n",
    "wine_data_nodups = d.drop(d[(d['price_filled']>=230)].index,axis=0)\n",
    "\n",
    "\n",
    "plt.figure(figsize=(10, 6))\n",
    "x,y=ecdf(wine_data_nodups['price_filled'])\n",
    "plt.scatter(x=x, y=y)\n",
    "plt.xlabel('price', fontsize=16)\n",
    "plt.ylabel('% Total', fontsize=16)\n",
    "plt.title('Distribution of Prices without Outliers')\n",
    "plt.show()\n",
    "\n"
   ]
  },
  {
   "cell_type": "code",
   "execution_count": 115,
   "metadata": {},
   "outputs": [
    {
     "data": {
      "image/png": "[encoded data removed]",
      "text/plain": [
       "<Figure size 720x432 with 1 Axes>"
      ]
     },
     "metadata": {
      "needs_background": "light"
     },
     "output_type": "display_data"
    }
   ],
   "source": [
    "#look at distribution for price \n",
    "plt.figure(figsize=(10, 6))\n",
    "import matplotlib.pyplot as plt\n",
    "import seaborn as sns\n",
    "sns.distplot(wine_data_nodups['price_filled'], bins=20, kde=False, rug=False);\n",
    "plt.title('price ')\n",
    "plt.show()"
   ]
  },
  {
   "cell_type": "code",
   "execution_count": 116,
   "metadata": {},
   "outputs": [
    {
     "name": "stdout",
     "output_type": "stream",
     "text": [
      "Reviews for more frequent Varieties ( more than 100 reviews) : 113319\n"
     ]
    },
    {
     "data": {
      "image/png": "[encoded data removed]",
      "text/plain": [
       "<Figure size 1008x576 with 1 Axes>"
      ]
     },
     "metadata": {
      "needs_background": "light"
     },
     "output_type": "display_data"
    }
   ],
   "source": [
    "\n",
    "\n",
    "d=wine_data_nodups['variety'].value_counts()\n",
    "d=d[d.values>100]\n",
    "print(\"Reviews for more frequent Varieties ( more than 100 reviews) :\",sum(d.values))\n",
    "plt.figure(figsize=(14, 8))\n",
    "plt.scatter(d.index[1:len(d)], d.values[1:len(d)])\n",
    "plt.ylabel('Reviews by Variety')\n",
    "plt.xlabel('Variety', fontsize=3,horizontalalignment='left')\n",
    "plt.xticks(rotation=90)\n",
    "plt.show()"
   ]
  },
  {
   "cell_type": "code",
   "execution_count": 117,
   "metadata": {},
   "outputs": [
    {
     "name": "stdout",
     "output_type": "stream",
     "text": [
      "Reviews for more frequent Varieties ( more than 100 reviews) : 113319\n"
     ]
    }
   ],
   "source": [
    "d=wine_data_nodups['variety'].value_counts()\n",
    "d=d[d.values>100]\n",
    "print(\"Reviews for more frequent Varieties ( more than 100 reviews) :\",sum(d.values))"
   ]
  },
  {
   "cell_type": "code",
   "execution_count": 118,
   "metadata": {},
   "outputs": [
    {
     "data": {
      "text/plain": [
       "R                 60052\n",
       "W                 44402\n",
       "Sp                 3519\n",
       "Ro                 3218\n",
       "G-S-M               169\n",
       "                  ...  \n",
       "Other                 1\n",
       "Biancolella           1\n",
       "Merlot-Argaman        1\n",
       "Pignolo               1\n",
       "Pigato                1\n",
       "Name: variety_final, Length: 508, dtype: int64"
      ]
     },
     "execution_count": 118,
     "metadata": {},
     "output_type": "execute_result"
    }
   ],
   "source": [
    "wine_data_final=wine_data_nodups.copy()\n",
    "wine_data_final['variety_final'] = wine_data_final['variety']  \n",
    "reds=[ \"Red\",\n",
    " \"Pinot Noir\",\n",
    " \"Pinot\",\n",
    " \"cabernet\",\n",
    " \"bordeaux\",\n",
    " \"Shiraz\",\n",
    " \"Merlot\",\n",
    " \"Garnacha\",\"Grenache\",\n",
    " \"Malbec\",\n",
    " \"Syrah\",\n",
    " \"Red Blend\",\n",
    " \"Zinfandel\",\n",
    " \"Sangiovese\",\n",
    " \"Nebbiolo\",\n",
    " \"Portuguese Red\",\n",
    " \"Tempranillo\",\n",
    " \"Gamay\",\n",
    " \"Petite Sirah\",\n",
    " \"Tempranillo Blend\",\n",
    " \"Barbera\",\n",
    " \"Sangiovese Grosso\",\n",
    " \"Port\",\n",
    " \"Corvina\",\n",
    " \"Garnacha\",\n",
    " \"Nero d'Avola\",\n",
    " \"Aglianico\",\n",
    " \"Petit Verdot\",\n",
    " \"Meritage\",\n",
    " \"MourvÃ¨dre\",\n",
    " \"Primitivo\",\n",
    " \"BlaufrÃ¤nkisch\",\n",
    " \"Montepulciano\",\n",
    " \"Monastrell\",\n",
    " \"Pinot Nero\",\n",
    " \"Tinta de Toro\", \"Bordeaux-style Red Blend\",  \"Corvina, Rondinella, Molinara\",\n",
    " \"Molinara\", \"Rhône-style Red Blend\",\"RhÃ´ne-style Red Blend\", \"CarmenÃ¨re\",\"Cabernet Franc\", \"Carmenère\",\"Blaufränkisch\",\"Mourvèdre\",\"Zweigelt\",\n",
    " \"Touriga Nacional\",\"Dolcetto\"]\n",
    "for i in reds:\n",
    "    wine_data_final[\"variety_final\"]=wine_data_final[\"variety_final\"].replace(i,\"R\")\n",
    "    \n",
    "    \n",
    "whites=[\"White\",\n",
    " \"Chardonnay\",\n",
    " \"Riesling\",\n",
    " \"Sauvignon\",\n",
    " \"Albarihno\",\n",
    " \"Verdejo\",\n",
    " \"Grenache Blanc\",\n",
    " \"Viura\",\n",
    " \"Macabeo\",\n",
    " \"Chardonnay-Pinot Blanc\",\n",
    " \"Pinot Blanc\",\n",
    " \"White Blend\",\n",
    " \"Pinot Gris\",\n",
    " \"Grüner Veltliner\",\n",
    " \"Viognier\",\n",
    " \"Portuguese White\",\n",
    " \"Bordeaux-style White Blend\",\n",
    " \"Gewürztraminer\",\n",
    " \"GewÃ¼rztraminer\",\n",
    "         \"GrÃ¼ner Veltliner\",\n",
    " \"Glera\",\n",
    " \"Chenin Blanc\",\n",
    " \"AlbariÃ±o\",\n",
    " \"RhÃ´ne-style White Blend\",\n",
    " \"Pinot Blanc\",\n",
    " \"Moscato\",\n",
    " \"TorrontÃ©s\",\n",
    " \"Melon\",\n",
    " \"Garganega\",\n",
    " \"Verdelho\",\n",
    " \"Pinot Bianco\", \"Cabernet Sauvignon\",\n",
    " \"Sauvignon Blanc\",\"Pinot Grigio\", \"Albariño\",\"Rhône-style White Blend\",\"Torrontés\",\"Vermentino\"]\n",
    "for i in whites:\n",
    "    wine_data_final[\"variety_final\"]=wine_data_final[\"variety_final\"].replace(i,\"W\")\n",
    "\n",
    "\n",
    "rose=[\"Rose\",\"Rosado\",\"RosÃ©\",\"Rosé\"]\n",
    "for i in rose:\n",
    "    wine_data_final[\"variety_final\"]=wine_data_final[\"variety_final\"].replace(i,\"Ro\")  \n",
    "\n",
    "    \n",
    "sparkling=[\"Sparkling\",\"Champagne\",\"Lambrusco\",\"Sparkling Blend\",\"Champagne Blend\",\"Prosecco\"]\n",
    "for i in sparkling:\n",
    "    wine_data_final[\"variety_final\"]=wine_data_final[\"variety_final\"].replace(i,\"Sp\")  \n",
    "    \n",
    "    \n",
    "wine_data_final[\"variety_final\"].value_counts()\n",
    "\n",
    "\n"
   ]
  },
  {
   "cell_type": "code",
   "execution_count": 119,
   "metadata": {},
   "outputs": [
    {
     "name": "stdout",
     "output_type": "stream",
     "text": [
      "Varieties to Drop :  8178\n"
     ]
    },
    {
     "data": {
      "image/png": "[encoded data removed]",
      "text/plain": [
       "<Figure size 432x288 with 1 Axes>"
      ]
     },
     "metadata": {
      "needs_background": "light"
     },
     "output_type": "display_data"
    }
   ],
   "source": [
    "#iterate all varieties that we want to keep ( R, W,Ro,Sp) to create a list of varieties we want to drop to start our \n",
    "#binary classification \n",
    "varieties_todrop = wine_data_final.drop(wine_data_final[(wine_data_final['variety_final']=='R')].index,axis=0)\n",
    "varieties_todrop = varieties_todrop.drop(wine_data_final[(wine_data_final['variety_final']=='W')].index,axis=0)\n",
    "varieties_todrop = varieties_todrop.drop(wine_data_final[(wine_data_final['variety_final']=='Ro')].index,axis=0)\n",
    "varieties_todrop = varieties_todrop.drop(wine_data_final[(wine_data_final['variety_final']=='Sp')].index,axis=0)\n",
    "\n",
    "print(\"Varieties to Drop : \",len(varieties_todrop))\n",
    "#now drop the data from the main dataframe\n",
    "wine_data_final=wine_data_final.drop(varieties_todrop.index,axis=0)\n",
    "\n",
    "wine_data_final[\"variety_final\"].value_counts()\n",
    "\n",
    "\n",
    "import matplotlib.pyplot as plt\n",
    "import seaborn as sns\n",
    "sns.countplot(wine_data_final['variety_final'])\n",
    "plt.title('Counts of reviews by buckets')\n",
    "plt.show()"
   ]
  },
  {
   "cell_type": "code",
   "execution_count": 120,
   "metadata": {},
   "outputs": [
    {
     "data": {
      "text/plain": [
       "104454"
      ]
     },
     "execution_count": 120,
     "metadata": {},
     "output_type": "execute_result"
    }
   ],
   "source": [
    "#for Binary Classification - Drop Sp Ro\n",
    "\n",
    "indexVariety = wine_data_final[(wine_data_final['variety_final']=='Sp')].index\n",
    "wine_data_final.drop(indexVariety , inplace=True)\n",
    "\n",
    "indexVariety = wine_data_final[(wine_data_final['variety_final']=='Ro')].index\n",
    "wine_data_final.drop(indexVariety , inplace=True)\n",
    "\n",
    "len(wine_data_final)"
   ]
  },
  {
   "cell_type": "code",
   "execution_count": 121,
   "metadata": {},
   "outputs": [
    {
     "data": {
      "image/png": "[encoded data removed]",
      "text/plain": [
       "<Figure size 432x288 with 1 Axes>"
      ]
     },
     "metadata": {
      "needs_background": "light"
     },
     "output_type": "display_data"
    }
   ],
   "source": [
    "import matplotlib.pyplot as plt\n",
    "import seaborn as sns\n",
    "sns.countplot(wine_data_final['variety_final'])\n",
    "plt.title('Counts of Reviews by Red/White Wine')\n",
    "plt.show()"
   ]
  },
  {
   "cell_type": "code",
   "execution_count": 122,
   "metadata": {},
   "outputs": [
    {
     "data": {
      "image/png": "[encoded data removed]",
      "text/plain": [
       "<Figure size 576x432 with 1 Axes>"
      ]
     },
     "metadata": {
      "needs_background": "light"
     },
     "output_type": "display_data"
    }
   ],
   "source": [
    "###Scatter map with 2 colors ( variety and price ) - using the function. \n",
    "\n",
    "import numpy as np\n",
    "import matplotlib.pyplot as plt\n",
    "\n",
    "# Create data\n",
    "#pr=wine_data_final[(wine_data_final['variety_final']=='R')]['price']\n",
    "#pw=wine_data_final[(wine_data_final['variety_final']=='W')]['price']\n",
    "\n",
    "xr,yr=ecdf(wine_data_final[(wine_data_final['variety_final']=='R')]['price'])\n",
    "xw,yw=ecdf(wine_data_final[(wine_data_final['variety_final']=='W')]['price'])\n",
    "\n",
    "#g1 = (xr,yr)\n",
    "#g2 = (xw,yw)\n",
    "\n",
    "\n",
    "#data = (g1, g2)\n",
    "#colors = (\"red\", \"blue\" )\n",
    "#groups = (\"red\", \"white\")\n",
    "\n",
    "# Create plot\n",
    "\n",
    "fig = plt.figure(figsize=(8, 6))\n",
    "\n",
    "#ax = fig.add_subplot(211)\n",
    "plt.scatter(xr,yr, alpha=0.8, c=\"red\", edgecolors='none', s=10, label=\"red\")\n",
    "\n",
    "#ax2 = fig.add_subplot(211)\n",
    "plt.scatter(xw,yw, alpha=0.8, c=\"blue\", edgecolors='none', s=10, label=\"white\")\n",
    "\n",
    "plt.title('Price Distribution for Reds and Whites')\n",
    "plt.legend(loc=2)\n",
    "plt.show()\n",
    "\n"
   ]
  },
  {
   "cell_type": "code",
   "execution_count": 123,
   "metadata": {},
   "outputs": [],
   "source": [
    "wine_data_final = pd.get_dummies(wine_data_final, prefix_sep=\"_\", \n",
    "                                   columns=['country'])\n",
    "#wine_data_final = pd.get_dummies(wine_data_final, prefix_sep=\"_\", \n",
    " #                                  columns=['province'])\n"
   ]
  },
  {
   "cell_type": "code",
   "execution_count": 124,
   "metadata": {},
   "outputs": [
    {
     "data": {
      "text/plain": [
       "104454"
      ]
     },
     "execution_count": 124,
     "metadata": {},
     "output_type": "execute_result"
    }
   ],
   "source": [
    "len(wine_data_final)"
   ]
  },
  {
   "cell_type": "code",
   "execution_count": 125,
   "metadata": {},
   "outputs": [],
   "source": [
    "#wine_data_final.head()\n",
    "#wine_data_final.to_csv(r'C:\\Users\\User\\OneDrive\\DataMining\\Exports\\wine_data_final.csv')"
   ]
  },
  {
   "cell_type": "markdown",
   "metadata": {},
   "source": [
    "### Text Mining \n",
    "\n",
    "we are also gonig to incorporate some text cleaning for the reviews \n",
    "\n",
    "preprocess, tokenize and stemm - "
   ]
  },
  {
   "cell_type": "code",
   "execution_count": 126,
   "metadata": {},
   "outputs": [],
   "source": [
    "text=wine_data_final['description']"
   ]
  },
  {
   "cell_type": "code",
   "execution_count": 127,
   "metadata": {},
   "outputs": [],
   "source": [
    "import nltk\n",
    "import os\n",
    "import nltk.corpus\n",
    "from nltk.tokenize import word_tokenize\n",
    "from nltk.tokenize import sent_tokenize\n",
    "from nltk.corpus import stopwords\n",
    "import re  # Regular expressions\n",
    "\n",
    "def preprocess(sentences):\n",
    "    clean_data = []\n",
    "    for sent in sentences: #this is Df_pd for Df_np (text[:])\n",
    "        new_text = re.sub('<.*?>', '',sent)   # remove HTML tags\n",
    "        new_text = re.sub(r'[^\\w\\s]', '', new_text) # remove punc.\n",
    "        new_text = re.sub(r'\\d+','',new_text)# remove numbers\n",
    "        new_text = new_text.lower() # lower case, .upper() for upper \n",
    "        if new_text != '':\n",
    "            clean_data.append(new_text)\n",
    "    return clean_data\n",
    "\n",
    "def tokenization_s(sentences): # same can be achieved for words tokens\n",
    "    s_new = []\n",
    "    for sent in (sentences): #(sentences[:][0]) #For NumpY = sentences[:]\n",
    "        s_token = word_tokenize(sent)\n",
    "        if s_token != '':\n",
    "            s_new.append(s_token)\n",
    "    return s_new\n",
    "\n"
   ]
  },
  {
   "cell_type": "code",
   "execution_count": 128,
   "metadata": {},
   "outputs": [],
   "source": [
    "preprocess=preprocess(text)\n",
    "token=tokenization_s(preprocess)\n",
    "\n",
    "from nltk.corpus import stopwords\n",
    "stop_words = set(stopwords.words('english'))\n",
    "clean_words=[]\n",
    "for i in range(0,len(token)):\n",
    "    words = [w for w in token[i] if not w in stop_words]\n",
    "    clean_words.append(words)\n",
    "    \n",
    "    "
   ]
  },
  {
   "cell_type": "code",
   "execution_count": 129,
   "metadata": {},
   "outputs": [
    {
     "name": "stdout",
     "output_type": "stream",
     "text": [
      "104454\n",
      "104454\n"
     ]
    }
   ],
   "source": [
    "print(len(preprocess))\n",
    "print(len(token))\n"
   ]
  },
  {
   "cell_type": "code",
   "execution_count": 130,
   "metadata": {},
   "outputs": [],
   "source": [
    "from nltk.stem import WordNetLemmatizer \n",
    "  \n",
    "lemmatizer = WordNetLemmatizer()\n",
    "lemma_words=[]\n",
    "for i in range(0,len(clean_words)):\n",
    "    lemma = [lemmatizer.lemmatize(word) for word in clean_words[i]]\n",
    "    lemma_words.append(lemma)\n"
   ]
  },
  {
   "cell_type": "code",
   "execution_count": 131,
   "metadata": {},
   "outputs": [],
   "source": [
    "#Build function to find frequent words \n",
    "\n",
    "def from_iterable_dup(iterables):\n",
    "    bow_dup=[]\n",
    "    for it in iterables:\n",
    "        for element in it:\n",
    "                bow_dup.append(element)\n",
    "    return bow_dup"
   ]
  },
  {
   "cell_type": "code",
   "execution_count": 132,
   "metadata": {},
   "outputs": [],
   "source": [
    "BoW_dup=from_iterable_dup(lemma_words)\n",
    "\n",
    "from collections import Counter\n",
    "a = dict(Counter(BoW_dup))\n",
    "WordFreq=pd.DataFrame(list(a.items()), columns=['WordFreq', 'Count'])"
   ]
  },
  {
   "cell_type": "code",
   "execution_count": 28,
   "metadata": {},
   "outputs": [],
   "source": [
    "#Visualization\n",
    "#WordFreq.to_csv(r'C:\\Users\\User\\OneDrive\\DataMining\\Exports\\WordFreq.csv')"
   ]
  },
  {
   "cell_type": "code",
   "execution_count": 133,
   "metadata": {},
   "outputs": [
    {
     "name": "stdout",
     "output_type": "stream",
     "text": [
      "    WordFreq  Count\n",
      "27    tannin  28252\n",
      "155   cherry  26892\n",
      "19   acidity  26479\n",
      "115    drink  24411\n",
      "154    black  21893\n"
     ]
    },
    {
     "data": {
      "text/plain": [
       "100"
      ]
     },
     "execution_count": 133,
     "metadata": {},
     "output_type": "execute_result"
    }
   ],
   "source": [
    "first100=WordFreq.sort_values(by=['Count'], ascending=False).head(106)\n",
    "first100.drop(first100.index[:6], inplace=True)\n",
    "print(first100.head())\n",
    "len(first100)"
   ]
  },
  {
   "cell_type": "code",
   "execution_count": 134,
   "metadata": {},
   "outputs": [
    {
     "data": {
      "image/png": "[encoded data removed]",
      "text/plain": [
       "<Figure size 1152x576 with 1 Axes>"
      ]
     },
     "metadata": {
      "needs_background": "light"
     },
     "output_type": "display_data"
    }
   ],
   "source": [
    "#d=wine_data_final['variety'].value_counts()\n",
    "#d=d[d.values>100]\n",
    "import matplotlib.pyplot as plt\n",
    "plt.figure(figsize=(16, 8))\n",
    "plt.scatter(first100['WordFreq'], first100['Count'])\n",
    "plt.ylabel('Frequency')\n",
    "plt.xlabel('Most frequent words', fontsize=2,horizontalalignment='left')\n",
    "plt.xticks(rotation=90)\n",
    "plt.title(\"Most frequent words\")\n",
    "plt.show()"
   ]
  },
  {
   "cell_type": "code",
   "execution_count": 135,
   "metadata": {},
   "outputs": [],
   "source": [
    "first100_l=first100['WordFreq'].to_list()"
   ]
  },
  {
   "cell_type": "code",
   "execution_count": 136,
   "metadata": {},
   "outputs": [],
   "source": [
    "\n",
    "f_lemma_words=[]\n",
    "for i in range(0,len(lemma_words)):\n",
    "    words = [w for w in lemma_words[i] if w in first100_l]\n",
    "    f_lemma_words.append(words)\n",
    "    "
   ]
  },
  {
   "cell_type": "code",
   "execution_count": 137,
   "metadata": {
    "scrolled": false
   },
   "outputs": [
    {
     "data": {
      "text/plain": [
       "104454"
      ]
     },
     "execution_count": 137,
     "metadata": {},
     "output_type": "execute_result"
    }
   ],
   "source": [
    "len(f_lemma_words)"
   ]
  },
  {
   "cell_type": "code",
   "execution_count": 138,
   "metadata": {},
   "outputs": [],
   "source": [
    "f_lemma_df=pd.DataFrame(f_lemma_words,index=wine_data_final.index)\n",
    "for i in range(0,25):\n",
    "    f_lemma_df=f_lemma_df.rename(columns={i: \"A\"+str(i)})\n",
    "f_lemma_df=f_lemma_df.rename(columns={25: \"A25\"})"
   ]
  },
  {
   "cell_type": "code",
   "execution_count": 139,
   "metadata": {},
   "outputs": [],
   "source": [
    "#lcolumns=f_lemma_df.columns.to_list()\n",
    "for i in f_lemma_df.columns.to_list():\n",
    "    lcolumns.append(i)"
   ]
  },
  {
   "cell_type": "code",
   "execution_count": 140,
   "metadata": {},
   "outputs": [],
   "source": [
    "for i in lcolumns:  \n",
    "    f_lemma_df[i].fillna('CONSTANT', inplace=True)"
   ]
  },
  {
   "cell_type": "code",
   "execution_count": 141,
   "metadata": {
    "scrolled": true
   },
   "outputs": [
    {
     "data": {
      "text/html": [
       "<div>\n",
       "<style scoped>\n",
       "    .dataframe tbody tr th:only-of-type {\n",
       "        vertical-align: middle;\n",
       "    }\n",
       "\n",
       "    .dataframe tbody tr th {\n",
       "        vertical-align: top;\n",
       "    }\n",
       "\n",
       "    .dataframe thead th {\n",
       "        text-align: right;\n",
       "    }\n",
       "</style>\n",
       "<table border=\"1\" class=\"dataframe\">\n",
       "  <thead>\n",
       "    <tr style=\"text-align: right;\">\n",
       "      <th></th>\n",
       "      <th>A0</th>\n",
       "      <th>A1</th>\n",
       "      <th>A2</th>\n",
       "      <th>A3</th>\n",
       "      <th>A4</th>\n",
       "      <th>A5</th>\n",
       "      <th>A6</th>\n",
       "      <th>A7</th>\n",
       "      <th>A8</th>\n",
       "      <th>A9</th>\n",
       "      <th>...</th>\n",
       "      <th>A16</th>\n",
       "      <th>A17</th>\n",
       "      <th>A18</th>\n",
       "      <th>A19</th>\n",
       "      <th>A20</th>\n",
       "      <th>A21</th>\n",
       "      <th>A22</th>\n",
       "      <th>A23</th>\n",
       "      <th>A24</th>\n",
       "      <th>A25</th>\n",
       "    </tr>\n",
       "  </thead>\n",
       "  <tbody>\n",
       "    <tr>\n",
       "      <td>0</td>\n",
       "      <td>dried</td>\n",
       "      <td>herb</td>\n",
       "      <td>apple</td>\n",
       "      <td>citrus</td>\n",
       "      <td>dried</td>\n",
       "      <td>acidity</td>\n",
       "      <td>CONSTANT</td>\n",
       "      <td>CONSTANT</td>\n",
       "      <td>CONSTANT</td>\n",
       "      <td>CONSTANT</td>\n",
       "      <td>...</td>\n",
       "      <td>CONSTANT</td>\n",
       "      <td>CONSTANT</td>\n",
       "      <td>CONSTANT</td>\n",
       "      <td>CONSTANT</td>\n",
       "      <td>CONSTANT</td>\n",
       "      <td>CONSTANT</td>\n",
       "      <td>CONSTANT</td>\n",
       "      <td>CONSTANT</td>\n",
       "      <td>CONSTANT</td>\n",
       "      <td>CONSTANT</td>\n",
       "    </tr>\n",
       "    <tr>\n",
       "      <td>1</td>\n",
       "      <td>ripe</td>\n",
       "      <td>fruity</td>\n",
       "      <td>smooth</td>\n",
       "      <td>still</td>\n",
       "      <td>structured</td>\n",
       "      <td>firm</td>\n",
       "      <td>tannin</td>\n",
       "      <td>juicy</td>\n",
       "      <td>red</td>\n",
       "      <td>berry</td>\n",
       "      <td>...</td>\n",
       "      <td>CONSTANT</td>\n",
       "      <td>CONSTANT</td>\n",
       "      <td>CONSTANT</td>\n",
       "      <td>CONSTANT</td>\n",
       "      <td>CONSTANT</td>\n",
       "      <td>CONSTANT</td>\n",
       "      <td>CONSTANT</td>\n",
       "      <td>CONSTANT</td>\n",
       "      <td>CONSTANT</td>\n",
       "      <td>CONSTANT</td>\n",
       "    </tr>\n",
       "    <tr>\n",
       "      <td>2</td>\n",
       "      <td>tart</td>\n",
       "      <td>lime</td>\n",
       "      <td>green</td>\n",
       "      <td>crisp</td>\n",
       "      <td>acidity</td>\n",
       "      <td>CONSTANT</td>\n",
       "      <td>CONSTANT</td>\n",
       "      <td>CONSTANT</td>\n",
       "      <td>CONSTANT</td>\n",
       "      <td>CONSTANT</td>\n",
       "      <td>...</td>\n",
       "      <td>CONSTANT</td>\n",
       "      <td>CONSTANT</td>\n",
       "      <td>CONSTANT</td>\n",
       "      <td>CONSTANT</td>\n",
       "      <td>CONSTANT</td>\n",
       "      <td>CONSTANT</td>\n",
       "      <td>CONSTANT</td>\n",
       "      <td>CONSTANT</td>\n",
       "      <td>CONSTANT</td>\n",
       "      <td>CONSTANT</td>\n",
       "    </tr>\n",
       "    <tr>\n",
       "      <td>3</td>\n",
       "      <td>lemon</td>\n",
       "      <td>orange</td>\n",
       "      <td>bit</td>\n",
       "      <td>note</td>\n",
       "      <td>CONSTANT</td>\n",
       "      <td>CONSTANT</td>\n",
       "      <td>CONSTANT</td>\n",
       "      <td>CONSTANT</td>\n",
       "      <td>CONSTANT</td>\n",
       "      <td>CONSTANT</td>\n",
       "      <td>...</td>\n",
       "      <td>CONSTANT</td>\n",
       "      <td>CONSTANT</td>\n",
       "      <td>CONSTANT</td>\n",
       "      <td>CONSTANT</td>\n",
       "      <td>CONSTANT</td>\n",
       "      <td>CONSTANT</td>\n",
       "      <td>CONSTANT</td>\n",
       "      <td>CONSTANT</td>\n",
       "      <td>CONSTANT</td>\n",
       "      <td>CONSTANT</td>\n",
       "    </tr>\n",
       "    <tr>\n",
       "      <td>4</td>\n",
       "      <td>like</td>\n",
       "      <td>come</td>\n",
       "      <td>tannic</td>\n",
       "      <td>earthy</td>\n",
       "      <td>herbal</td>\n",
       "      <td>good</td>\n",
       "      <td>CONSTANT</td>\n",
       "      <td>CONSTANT</td>\n",
       "      <td>CONSTANT</td>\n",
       "      <td>CONSTANT</td>\n",
       "      <td>...</td>\n",
       "      <td>CONSTANT</td>\n",
       "      <td>CONSTANT</td>\n",
       "      <td>CONSTANT</td>\n",
       "      <td>CONSTANT</td>\n",
       "      <td>CONSTANT</td>\n",
       "      <td>CONSTANT</td>\n",
       "      <td>CONSTANT</td>\n",
       "      <td>CONSTANT</td>\n",
       "      <td>CONSTANT</td>\n",
       "      <td>CONSTANT</td>\n",
       "    </tr>\n",
       "  </tbody>\n",
       "</table>\n",
       "<p>5 rows × 26 columns</p>\n",
       "</div>"
      ],
      "text/plain": [
       "      A0      A1      A2      A3          A4        A5        A6        A7  \\\n",
       "0  dried    herb   apple  citrus       dried   acidity  CONSTANT  CONSTANT   \n",
       "1   ripe  fruity  smooth   still  structured      firm    tannin     juicy   \n",
       "2   tart    lime   green   crisp     acidity  CONSTANT  CONSTANT  CONSTANT   \n",
       "3  lemon  orange     bit    note    CONSTANT  CONSTANT  CONSTANT  CONSTANT   \n",
       "4   like    come  tannic  earthy      herbal      good  CONSTANT  CONSTANT   \n",
       "\n",
       "         A8        A9  ...       A16       A17       A18       A19       A20  \\\n",
       "0  CONSTANT  CONSTANT  ...  CONSTANT  CONSTANT  CONSTANT  CONSTANT  CONSTANT   \n",
       "1       red     berry  ...  CONSTANT  CONSTANT  CONSTANT  CONSTANT  CONSTANT   \n",
       "2  CONSTANT  CONSTANT  ...  CONSTANT  CONSTANT  CONSTANT  CONSTANT  CONSTANT   \n",
       "3  CONSTANT  CONSTANT  ...  CONSTANT  CONSTANT  CONSTANT  CONSTANT  CONSTANT   \n",
       "4  CONSTANT  CONSTANT  ...  CONSTANT  CONSTANT  CONSTANT  CONSTANT  CONSTANT   \n",
       "\n",
       "        A21       A22       A23       A24       A25  \n",
       "0  CONSTANT  CONSTANT  CONSTANT  CONSTANT  CONSTANT  \n",
       "1  CONSTANT  CONSTANT  CONSTANT  CONSTANT  CONSTANT  \n",
       "2  CONSTANT  CONSTANT  CONSTANT  CONSTANT  CONSTANT  \n",
       "3  CONSTANT  CONSTANT  CONSTANT  CONSTANT  CONSTANT  \n",
       "4  CONSTANT  CONSTANT  CONSTANT  CONSTANT  CONSTANT  \n",
       "\n",
       "[5 rows x 26 columns]"
      ]
     },
     "execution_count": 141,
     "metadata": {},
     "output_type": "execute_result"
    }
   ],
   "source": [
    "f_lemma_df.head()"
   ]
  },
  {
   "cell_type": "code",
   "execution_count": 142,
   "metadata": {},
   "outputs": [],
   "source": [
    "# label encoding the data \n",
    "from sklearn.preprocessing import LabelEncoder \n",
    "le = LabelEncoder() \n",
    "for i in lcolumns:  \n",
    "    f_lemma_df[i]= le.fit_transform(f_lemma_df[i]) "
   ]
  },
  {
   "cell_type": "code",
   "execution_count": 143,
   "metadata": {},
   "outputs": [
    {
     "data": {
      "text/html": [
       "<div>\n",
       "<style scoped>\n",
       "    .dataframe tbody tr th:only-of-type {\n",
       "        vertical-align: middle;\n",
       "    }\n",
       "\n",
       "    .dataframe tbody tr th {\n",
       "        vertical-align: top;\n",
       "    }\n",
       "\n",
       "    .dataframe thead th {\n",
       "        text-align: right;\n",
       "    }\n",
       "</style>\n",
       "<table border=\"1\" class=\"dataframe\">\n",
       "  <thead>\n",
       "    <tr style=\"text-align: right;\">\n",
       "      <th></th>\n",
       "      <th>A0</th>\n",
       "      <th>A1</th>\n",
       "      <th>A2</th>\n",
       "      <th>A3</th>\n",
       "      <th>A4</th>\n",
       "      <th>A5</th>\n",
       "      <th>A6</th>\n",
       "      <th>A7</th>\n",
       "      <th>A8</th>\n",
       "      <th>A9</th>\n",
       "      <th>...</th>\n",
       "      <th>A16</th>\n",
       "      <th>A17</th>\n",
       "      <th>A18</th>\n",
       "      <th>A19</th>\n",
       "      <th>A20</th>\n",
       "      <th>A21</th>\n",
       "      <th>A22</th>\n",
       "      <th>A23</th>\n",
       "      <th>A24</th>\n",
       "      <th>A25</th>\n",
       "    </tr>\n",
       "  </thead>\n",
       "  <tbody>\n",
       "    <tr>\n",
       "      <td>0</td>\n",
       "      <td>27</td>\n",
       "      <td>41</td>\n",
       "      <td>6</td>\n",
       "      <td>19</td>\n",
       "      <td>27</td>\n",
       "      <td>1</td>\n",
       "      <td>0</td>\n",
       "      <td>0</td>\n",
       "      <td>0</td>\n",
       "      <td>0</td>\n",
       "      <td>...</td>\n",
       "      <td>0</td>\n",
       "      <td>0</td>\n",
       "      <td>0</td>\n",
       "      <td>0</td>\n",
       "      <td>0</td>\n",
       "      <td>0</td>\n",
       "      <td>0</td>\n",
       "      <td>0</td>\n",
       "      <td>0</td>\n",
       "      <td>0</td>\n",
       "    </tr>\n",
       "    <tr>\n",
       "      <td>1</td>\n",
       "      <td>72</td>\n",
       "      <td>35</td>\n",
       "      <td>76</td>\n",
       "      <td>80</td>\n",
       "      <td>82</td>\n",
       "      <td>33</td>\n",
       "      <td>87</td>\n",
       "      <td>44</td>\n",
       "      <td>70</td>\n",
       "      <td>9</td>\n",
       "      <td>...</td>\n",
       "      <td>0</td>\n",
       "      <td>0</td>\n",
       "      <td>0</td>\n",
       "      <td>0</td>\n",
       "      <td>0</td>\n",
       "      <td>0</td>\n",
       "      <td>0</td>\n",
       "      <td>0</td>\n",
       "      <td>0</td>\n",
       "      <td>0</td>\n",
       "    </tr>\n",
       "    <tr>\n",
       "      <td>2</td>\n",
       "      <td>88</td>\n",
       "      <td>51</td>\n",
       "      <td>40</td>\n",
       "      <td>23</td>\n",
       "      <td>1</td>\n",
       "      <td>0</td>\n",
       "      <td>0</td>\n",
       "      <td>0</td>\n",
       "      <td>0</td>\n",
       "      <td>0</td>\n",
       "      <td>...</td>\n",
       "      <td>0</td>\n",
       "      <td>0</td>\n",
       "      <td>0</td>\n",
       "      <td>0</td>\n",
       "      <td>0</td>\n",
       "      <td>0</td>\n",
       "      <td>0</td>\n",
       "      <td>0</td>\n",
       "      <td>0</td>\n",
       "      <td>0</td>\n",
       "    </tr>\n",
       "    <tr>\n",
       "      <td>3</td>\n",
       "      <td>47</td>\n",
       "      <td>63</td>\n",
       "      <td>10</td>\n",
       "      <td>59</td>\n",
       "      <td>0</td>\n",
       "      <td>0</td>\n",
       "      <td>0</td>\n",
       "      <td>0</td>\n",
       "      <td>0</td>\n",
       "      <td>0</td>\n",
       "      <td>...</td>\n",
       "      <td>0</td>\n",
       "      <td>0</td>\n",
       "      <td>0</td>\n",
       "      <td>0</td>\n",
       "      <td>0</td>\n",
       "      <td>0</td>\n",
       "      <td>0</td>\n",
       "      <td>0</td>\n",
       "      <td>0</td>\n",
       "      <td>0</td>\n",
       "    </tr>\n",
       "    <tr>\n",
       "      <td>4</td>\n",
       "      <td>50</td>\n",
       "      <td>21</td>\n",
       "      <td>86</td>\n",
       "      <td>30</td>\n",
       "      <td>42</td>\n",
       "      <td>39</td>\n",
       "      <td>0</td>\n",
       "      <td>0</td>\n",
       "      <td>0</td>\n",
       "      <td>0</td>\n",
       "      <td>...</td>\n",
       "      <td>0</td>\n",
       "      <td>0</td>\n",
       "      <td>0</td>\n",
       "      <td>0</td>\n",
       "      <td>0</td>\n",
       "      <td>0</td>\n",
       "      <td>0</td>\n",
       "      <td>0</td>\n",
       "      <td>0</td>\n",
       "      <td>0</td>\n",
       "    </tr>\n",
       "  </tbody>\n",
       "</table>\n",
       "<p>5 rows × 26 columns</p>\n",
       "</div>"
      ],
      "text/plain": [
       "   A0  A1  A2  A3  A4  A5  A6  A7  A8  A9  ...  A16  A17  A18  A19  A20  A21  \\\n",
       "0  27  41   6  19  27   1   0   0   0   0  ...    0    0    0    0    0    0   \n",
       "1  72  35  76  80  82  33  87  44  70   9  ...    0    0    0    0    0    0   \n",
       "2  88  51  40  23   1   0   0   0   0   0  ...    0    0    0    0    0    0   \n",
       "3  47  63  10  59   0   0   0   0   0   0  ...    0    0    0    0    0    0   \n",
       "4  50  21  86  30  42  39   0   0   0   0  ...    0    0    0    0    0    0   \n",
       "\n",
       "   A22  A23  A24  A25  \n",
       "0    0    0    0    0  \n",
       "1    0    0    0    0  \n",
       "2    0    0    0    0  \n",
       "3    0    0    0    0  \n",
       "4    0    0    0    0  \n",
       "\n",
       "[5 rows x 26 columns]"
      ]
     },
     "execution_count": 143,
     "metadata": {},
     "output_type": "execute_result"
    }
   ],
   "source": [
    "f_lemma_df.head()"
   ]
  },
  {
   "cell_type": "code",
   "execution_count": 144,
   "metadata": {},
   "outputs": [],
   "source": [
    "import warnings\n",
    "warnings.filterwarnings(\"ignore\")\n",
    "\n",
    "# importing one hot encoder from sklearn \n",
    "from sklearn.preprocessing import OneHotEncoder \n",
    "onehotencoder = OneHotEncoder() \n",
    "  \n",
    "data = onehotencoder.fit_transform(f_lemma_df).toarray()"
   ]
  },
  {
   "cell_type": "code",
   "execution_count": 145,
   "metadata": {},
   "outputs": [],
   "source": [
    "data_df=pd.DataFrame(data,index=wine_data_final.index)"
   ]
  },
  {
   "cell_type": "code",
   "execution_count": 146,
   "metadata": {},
   "outputs": [
    {
     "data": {
      "text/plain": [
       "Index(['description', 'designation', 'points', 'price', 'province', 'region_1',\n",
       "       'region_2', 'taster_name', 'taster_twitter_handle', 'title', 'variety',\n",
       "       'winery', 'price_filled', 'bucket_points', 'price_buckets',\n",
       "       'variety_final', 'country_Argentina', 'country_Australia',\n",
       "       'country_Austria', 'country_Brazil', 'country_Bulgaria',\n",
       "       'country_Canada', 'country_Chile', 'country_Croatia', 'country_Cyprus',\n",
       "       'country_Czech Republic', 'country_England', 'country_France',\n",
       "       'country_Georgia', 'country_Germany', 'country_Greece',\n",
       "       'country_Hungary', 'country_India', 'country_Israel', 'country_Italy',\n",
       "       'country_Lebanon', 'country_Luxembourg', 'country_Macedonia',\n",
       "       'country_Mexico', 'country_Moldova', 'country_Morocco',\n",
       "       'country_New Zealand', 'country_Peru', 'country_Portugal',\n",
       "       'country_Romania', 'country_Serbia', 'country_Slovakia',\n",
       "       'country_Slovenia', 'country_South Africa', 'country_Spain',\n",
       "       'country_Switzerland', 'country_Turkey', 'country_US',\n",
       "       'country_Ukraine', 'country_Uruguay'],\n",
       "      dtype='object')"
      ]
     },
     "execution_count": 146,
     "metadata": {},
     "output_type": "execute_result"
    }
   ],
   "source": [
    "#wine_data_final=wine_data_final.drop(['description','designation','variety','title','winery','price','points','region_1', 'region_2', 'taster_name', 'taster_twitter_handle',],axis=1)\n",
    "wine_data_final.columns"
   ]
  },
  {
   "cell_type": "code",
   "execution_count": 147,
   "metadata": {},
   "outputs": [],
   "source": [
    "wine_data_final2=wine_data_final.drop([\"winery\",'province','description','designation','region_1', 'bucket_points', 'price_buckets', 'region_2', 'taster_name', 'taster_twitter_handle','title','variety','price'],axis=1)"
   ]
  },
  {
   "cell_type": "code",
   "execution_count": 148,
   "metadata": {},
   "outputs": [
    {
     "data": {
      "text/plain": [
       "Index(['points', 'price_filled', 'variety_final', 'country_Argentina',\n",
       "       'country_Australia', 'country_Austria', 'country_Brazil',\n",
       "       'country_Bulgaria', 'country_Canada', 'country_Chile',\n",
       "       'country_Croatia', 'country_Cyprus', 'country_Czech Republic',\n",
       "       'country_England', 'country_France', 'country_Georgia',\n",
       "       'country_Germany', 'country_Greece', 'country_Hungary', 'country_India',\n",
       "       'country_Israel', 'country_Italy', 'country_Lebanon',\n",
       "       'country_Luxembourg', 'country_Macedonia', 'country_Mexico',\n",
       "       'country_Moldova', 'country_Morocco', 'country_New Zealand',\n",
       "       'country_Peru', 'country_Portugal', 'country_Romania', 'country_Serbia',\n",
       "       'country_Slovakia', 'country_Slovenia', 'country_South Africa',\n",
       "       'country_Spain', 'country_Switzerland', 'country_Turkey', 'country_US',\n",
       "       'country_Ukraine', 'country_Uruguay'],\n",
       "      dtype='object')"
      ]
     },
     "execution_count": 148,
     "metadata": {},
     "output_type": "execute_result"
    }
   ],
   "source": [
    "wine_data_final2.columns"
   ]
  },
  {
   "cell_type": "code",
   "execution_count": 149,
   "metadata": {},
   "outputs": [],
   "source": [
    "d = pd.concat([wine_data_final2, data_df], axis=1, sort=False)"
   ]
  },
  {
   "cell_type": "code",
   "execution_count": 98,
   "metadata": {},
   "outputs": [
    {
     "name": "stdout",
     "output_type": "stream",
     "text": [
      "(83563, 2008) (83563,)\n",
      "(20891, 2008) (20891,)\n",
      "Accuracy of our prediction 0.858312191852951\n"
     ]
    }
   ],
   "source": [
    "#import split the data \n",
    "from sklearn.model_selection import train_test_split\n",
    "#from sklearn.preprocessing import StandardScaler\n",
    "from sklearn.ensemble import RandomForestClassifier\n",
    "\n",
    "X=d.drop(['variety_final'],axis=1)\n",
    "Y=d['variety_final']\n",
    "\n",
    "X_train, X_test, y_train, y_test = train_test_split(X, Y, test_size=0.2, random_state = 2) # 0.2 test_size means 20%\n",
    "#sc = StandardScaler()\n",
    "#X_train = sc.fit_transform(X_train)\n",
    "#X_test = sc.transform(X_test)\n",
    "\n",
    "print(X_train.shape, y_train.shape)\n",
    "print(X_test.shape, y_test.shape)\n",
    "\n",
    "# Run Random Forest classifer  \n",
    "\n",
    "RFC=RandomForestClassifier()\n",
    "RFC.fit(X_train,y_train)\n",
    "accuracy_RFC = RFC.score(X_test, y_test)\n",
    "print(\"Accuracy of our prediction without Province\",accuracy_RFC)"
   ]
  },
  {
   "cell_type": "code",
   "execution_count": 150,
   "metadata": {},
   "outputs": [
    {
     "name": "stdout",
     "output_type": "stream",
     "text": [
      "(83563, 2008) (83563,)\n",
      "(20891, 2008) (20891,)\n",
      "Accuracy of our prediction without Province 0.8582643243501986\n"
     ]
    }
   ],
   "source": [
    "#import split the data \n",
    "from sklearn.model_selection import train_test_split\n",
    "from sklearn.ensemble import RandomForestClassifier\n",
    "\n",
    "X=d.drop(['variety_final'],axis=1)\n",
    "Y=d['variety_final']\n",
    "\n",
    "X_train, X_test, y_train, y_test = train_test_split(X, Y, test_size=0.2, random_state = 2) # 0.2 test_size means 20%\n",
    "print(X_train.shape, y_train.shape)\n",
    "print(X_test.shape, y_test.shape)\n",
    "\n",
    "# Run Random Forest classifer  \n",
    "\n",
    "RFC=RandomForestClassifier()\n",
    "RFC.fit(X_train,y_train)\n",
    "accuracy_RFC = RFC.score(X_test, y_test)\n",
    "print(\"Accuracy of our prediction without Province\",accuracy_RFC)"
   ]
  },
  {
   "cell_type": "code",
   "execution_count": null,
   "metadata": {},
   "outputs": [],
   "source": []
  },
  {
   "cell_type": "code",
   "execution_count": 101,
   "metadata": {},
   "outputs": [],
   "source": []
  },
  {
   "cell_type": "code",
   "execution_count": null,
   "metadata": {},
   "outputs": [],
   "source": [
    "\n"
   ]
  },
  {
   "cell_type": "code",
   "execution_count": null,
   "metadata": {},
   "outputs": [],
   "source": []
  },
  {
   "cell_type": "code",
   "execution_count": null,
   "metadata": {},
   "outputs": [],
   "source": []
  },
  {
   "cell_type": "code",
   "execution_count": null,
   "metadata": {},
   "outputs": [],
   "source": []
  }
 ],
 "metadata": {
  "kernelspec": {
   "display_name": "Python 3",
   "language": "python",
   "name": "python3"
  },
  "language_info": {
   "codemirror_mode": {
    "name": "ipython",
    "version": 3
   },
   "file_extension": ".py",
   "mimetype": "text/x-python",
   "name": "python",
   "nbconvert_exporter": "python",
   "pygments_lexer": "ipython3",
   "version": "3.7.1"
  }
 },
 "nbformat": 4,
 "nbformat_minor": 2
}
